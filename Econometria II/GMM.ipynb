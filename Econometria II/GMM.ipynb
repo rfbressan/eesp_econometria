{
 "cells": [
  {
   "cell_type": "markdown",
   "metadata": {},
   "source": [
    "# GMM in Sympy"
   ]
  },
  {
   "cell_type": "code",
   "execution_count": 55,
   "metadata": {},
   "outputs": [],
   "source": [
    "from sympy import *\n",
    "from sympy.abc import gamma, alpha, beta, delta, mu, sigma, tau"
   ]
  },
  {
   "cell_type": "code",
   "execution_count": 61,
   "metadata": {},
   "outputs": [],
   "source": [
    "p, q = symbols('p q', integer = True)\n",
    "x, y, z, lamb, ui = symbols('x y z lambda u_i')"
   ]
  },
  {
   "cell_type": "markdown",
   "metadata": {},
   "source": [
    "## GMM Two stages"
   ]
  },
  {
   "cell_type": "code",
   "execution_count": null,
   "metadata": {},
   "outputs": [],
   "source": [
    "m1 = Function('m1')(gamma)\n",
    "m2 = Function('m2')(gamma)\n",
    "g1 = Function('g1')(gamma, beta)\n",
    "g2 = Function('g2')(gamma, beta)\n",
    "theta = Matrix([gamma, beta])"
   ]
  },
  {
   "cell_type": "code",
   "execution_count": null,
   "metadata": {},
   "outputs": [],
   "source": [
    "m = Matrix([m1, m2])\n",
    "g = Matrix([g1, g2])\n",
    "gtil = BlockMatrix([m, g])\n",
    "gtil.diff(theta)"
   ]
  },
  {
   "cell_type": "code",
   "execution_count": null,
   "metadata": {},
   "outputs": [],
   "source": [
    "G0 = g.jacobian(theta)\n",
    "G0"
   ]
  },
  {
   "cell_type": "markdown",
   "metadata": {},
   "source": [
    "## GMM OLS"
   ]
  },
  {
   "cell_type": "code",
   "execution_count": 20,
   "metadata": {},
   "outputs": [
    {
     "output_type": "execute_result",
     "data": {
      "text/plain": "Matrix([\n[                   -beta*x + y],\n[               x*(-beta*x + y)],\n[   -delta + x*(-beta*x + y)**2],\n[-gamma + x**2*(-beta*x + y)**2]])",
      "text/latex": "$\\displaystyle \\left[\\begin{matrix}- \\beta x + y\\\\x \\left(- \\beta x + y\\right)\\\\- \\delta + x \\left(- \\beta x + y\\right)^{2}\\\\- \\gamma + x^{2} \\left(- \\beta x + y\\right)^{2}\\end{matrix}\\right]$"
     },
     "metadata": {},
     "execution_count": 20
    }
   ],
   "source": [
    "ui = symbols('ei')\n",
    "m1 = y - x*beta\n",
    "m2 = x*(y-x*beta)\n",
    "m3 = (y-x*beta)**2*x - delta\n",
    "m4 = (y-x*beta)**2*x**2 - gamma\n",
    "m = Matrix([m1, m2, m3, m4])\n",
    "theta = Matrix([beta, delta, gamma])\n",
    "m"
   ]
  },
  {
   "cell_type": "code",
   "execution_count": 15,
   "metadata": {},
   "outputs": [
    {
     "output_type": "execute_result",
     "data": {
      "text/plain": "Matrix([\n[ beta],\n[delta],\n[gamma]])",
      "text/latex": "$\\displaystyle \\left[\\begin{matrix}\\beta\\\\\\delta\\\\\\gamma\\end{matrix}\\right]$"
     },
     "metadata": {},
     "execution_count": 15
    }
   ],
   "source": [
    "theta"
   ]
  },
  {
   "cell_type": "code",
   "execution_count": 10,
   "metadata": {},
   "outputs": [
    {
     "output_type": "execute_result",
     "data": {
      "text/plain": "Matrix([\n[0, 0, 0, 0],\n[0, 1, 0, 0],\n[0, 0, 1, 0],\n[0, 0, 0, 1]])",
      "text/latex": "$\\displaystyle \\left[\\begin{matrix}0 & 0 & 0 & 0\\\\0 & 1 & 0 & 0\\\\0 & 0 & 1 & 0\\\\0 & 0 & 0 & 1\\end{matrix}\\right]$"
     },
     "metadata": {},
     "execution_count": 10
    }
   ],
   "source": [
    "A1 = Matrix([[0,0,0,0], [0,1,0,0], [0,0,1,0], [0,0,0,1]])\n",
    "A1"
   ]
  },
  {
   "cell_type": "code",
   "execution_count": 21,
   "metadata": {},
   "outputs": [
    {
     "output_type": "execute_result",
     "data": {
      "text/plain": "Matrix([[x**2*(-beta*x + y)**2 + (-delta + x*(-beta*x + y)**2)**2 + (-gamma + x**2*(-beta*x + y)**2)**2]])",
      "text/latex": "$\\displaystyle \\left[\\begin{matrix}x^{2} \\left(- \\beta x + y\\right)^{2} + \\left(- \\delta + x \\left(- \\beta x + y\\right)^{2}\\right)^{2} + \\left(- \\gamma + x^{2} \\left(- \\beta x + y\\right)^{2}\\right)^{2}\\end{matrix}\\right]$"
     },
     "metadata": {},
     "execution_count": 21
    }
   ],
   "source": [
    "obj = m.T*A1*m\n",
    "obj"
   ]
  },
  {
   "cell_type": "code",
   "execution_count": 26,
   "metadata": {},
   "outputs": [
    {
     "output_type": "execute_result",
     "data": {
      "text/plain": "Matrix([\n[                             0],\n[               x*(-beta*x + y)],\n[   -delta + x*(-beta*x + y)**2],\n[-gamma + x**2*(-beta*x + y)**2]])",
      "text/latex": "$\\displaystyle \\left[\\begin{matrix}0\\\\x \\left(- \\beta x + y\\right)\\\\- \\delta + x \\left(- \\beta x + y\\right)^{2}\\\\- \\gamma + x^{2} \\left(- \\beta x + y\\right)^{2}\\end{matrix}\\right]$"
     },
     "metadata": {},
     "execution_count": 26
    }
   ],
   "source": [
    "A1*m"
   ]
  },
  {
   "cell_type": "code",
   "execution_count": 48,
   "metadata": {},
   "outputs": [
    {
     "output_type": "execute_result",
     "data": {
      "text/plain": "Matrix([\n[                   -x],\n[                -x**2],\n[-2*x**2*(-beta*x + y)],\n[-2*x**3*(-beta*x + y)]])",
      "text/latex": "$\\displaystyle \\left[\\begin{matrix}- x\\\\- x^{2}\\\\- 2 x^{2} \\left(- \\beta x + y\\right)\\\\- 2 x^{3} \\left(- \\beta x + y\\right)\\end{matrix}\\right]$"
     },
     "metadata": {},
     "execution_count": 48
    }
   ],
   "source": [
    "grad_m = m.diff(beta)\n",
    "grad_m"
   ]
  },
  {
   "cell_type": "code",
   "execution_count": 49,
   "metadata": {},
   "outputs": [
    {
     "output_type": "execute_result",
     "data": {
      "text/plain": "Matrix([\n[    -mu],\n[-tau**2],\n[      0],\n[      0]])",
      "text/latex": "$\\displaystyle \\left[\\begin{matrix}- \\mu\\\\- \\tau^{2}\\\\0\\\\0\\end{matrix}\\right]$"
     },
     "metadata": {},
     "execution_count": 49
    }
   ],
   "source": [
    "G0 = Matrix([-mu, -tau**2, 0, 0])\n",
    "G0"
   ]
  },
  {
   "cell_type": "code",
   "execution_count": 57,
   "metadata": {},
   "outputs": [
    {
     "output_type": "execute_result",
     "data": {
      "text/plain": "Matrix([[tau**(-4)]])",
      "text/latex": "$\\displaystyle \\left[\\begin{matrix}\\frac{1}{\\tau^{4}}\\end{matrix}\\right]$"
     },
     "metadata": {},
     "execution_count": 57
    }
   ],
   "source": [
    "INV = (G0.T*A1*G0)**-1\n",
    "INV"
   ]
  },
  {
   "cell_type": "code",
   "execution_count": 58,
   "metadata": {},
   "outputs": [
    {
     "output_type": "execute_result",
     "data": {
      "text/plain": "Matrix([[0, -tau**2, 0, 0]])",
      "text/latex": "$\\displaystyle \\left[\\begin{matrix}0 & - \\tau^{2} & 0 & 0\\end{matrix}\\right]$"
     },
     "metadata": {},
     "execution_count": 58
    }
   ],
   "source": [
    "M0A1 = G0.T*A1\n",
    "M0A1"
   ]
  },
  {
   "cell_type": "code",
   "execution_count": 52,
   "metadata": {},
   "outputs": [
    {
     "output_type": "execute_result",
     "data": {
      "text/plain": "Matrix([\n[      0],\n[-tau**2],\n[      0],\n[      0]])",
      "text/latex": "$\\displaystyle \\left[\\begin{matrix}0\\\\- \\tau^{2}\\\\0\\\\0\\end{matrix}\\right]$"
     },
     "metadata": {},
     "execution_count": 52
    }
   ],
   "source": [
    "A1*G0"
   ]
  },
  {
   "cell_type": "code",
   "execution_count": 53,
   "metadata": {},
   "outputs": [
    {
     "output_type": "execute_result",
     "data": {
      "text/plain": "Matrix([\n[          -beta*x + y],\n[      x*(-beta*x + y)],\n[   x*(-beta*x + y)**2],\n[x**2*(-beta*x + y)**2]])",
      "text/latex": "$\\displaystyle \\left[\\begin{matrix}- \\beta x + y\\\\x \\left(- \\beta x + y\\right)\\\\x \\left(- \\beta x + y\\right)^{2}\\\\x^{2} \\left(- \\beta x + y\\right)^{2}\\end{matrix}\\right]$"
     },
     "metadata": {},
     "execution_count": 53
    }
   ],
   "source": [
    "g = m.subs({delta: 0, gamma: 0})\n",
    "g"
   ]
  },
  {
   "cell_type": "code",
   "execution_count": 54,
   "metadata": {},
   "outputs": [
    {
     "output_type": "execute_result",
     "data": {
      "text/plain": "Matrix([\n[     (-beta*x + y)**2,    x*(-beta*x + y)**2,    x*(-beta*x + y)**3, x**2*(-beta*x + y)**3],\n[   x*(-beta*x + y)**2, x**2*(-beta*x + y)**2, x**2*(-beta*x + y)**3, x**3*(-beta*x + y)**3],\n[   x*(-beta*x + y)**3, x**2*(-beta*x + y)**3, x**2*(-beta*x + y)**4, x**3*(-beta*x + y)**4],\n[x**2*(-beta*x + y)**3, x**3*(-beta*x + y)**3, x**3*(-beta*x + y)**4, x**4*(-beta*x + y)**4]])",
      "text/latex": "$\\displaystyle \\left[\\begin{matrix}\\left(- \\beta x + y\\right)^{2} & x \\left(- \\beta x + y\\right)^{2} & x \\left(- \\beta x + y\\right)^{3} & x^{2} \\left(- \\beta x + y\\right)^{3}\\\\x \\left(- \\beta x + y\\right)^{2} & x^{2} \\left(- \\beta x + y\\right)^{2} & x^{2} \\left(- \\beta x + y\\right)^{3} & x^{3} \\left(- \\beta x + y\\right)^{3}\\\\x \\left(- \\beta x + y\\right)^{3} & x^{2} \\left(- \\beta x + y\\right)^{3} & x^{2} \\left(- \\beta x + y\\right)^{4} & x^{3} \\left(- \\beta x + y\\right)^{4}\\\\x^{2} \\left(- \\beta x + y\\right)^{3} & x^{3} \\left(- \\beta x + y\\right)^{3} & x^{3} \\left(- \\beta x + y\\right)^{4} & x^{4} \\left(- \\beta x + y\\right)^{4}\\end{matrix}\\right]$"
     },
     "metadata": {},
     "execution_count": 54
    }
   ],
   "source": [
    "ggT = g*g.T\n",
    "ggT"
   ]
  },
  {
   "cell_type": "code",
   "execution_count": 56,
   "metadata": {},
   "outputs": [
    {
     "output_type": "execute_result",
     "data": {
      "text/plain": "Matrix([\n[sigma**2, 0, 0, 0],\n[       0, 0, 0, 0],\n[       0, 0, 0, 0],\n[       0, 0, 0, 0]])",
      "text/latex": "$\\displaystyle \\left[\\begin{matrix}\\sigma^{2} & 0 & 0 & 0\\\\0 & 0 & 0 & 0\\\\0 & 0 & 0 & 0\\\\0 & 0 & 0 & 0\\end{matrix}\\right]$"
     },
     "metadata": {},
     "execution_count": 56
    }
   ],
   "source": [
    "EggT = Matrix([[sigma**2, 0, 0, 0], [0, 0, 0, 0],[0, 0, 0, 0], [0,0,0,0]])\n",
    "EggT"
   ]
  },
  {
   "cell_type": "code",
   "execution_count": 59,
   "metadata": {},
   "outputs": [
    {
     "output_type": "execute_result",
     "data": {
      "text/plain": "Matrix([[0]])",
      "text/latex": "$\\displaystyle \\left[\\begin{matrix}0\\end{matrix}\\right]$"
     },
     "metadata": {},
     "execution_count": 59
    }
   ],
   "source": [
    "INV*M0A1*EggT*M0A1.T*INV"
   ]
  },
  {
   "cell_type": "code",
   "execution_count": 18,
   "metadata": {},
   "outputs": [
    {
     "output_type": "execute_result",
     "data": {
      "text/plain": "[[[[-4*x**3*(-gamma + x**2*(-beta*x + y)**2)*(-beta*x + y) - 2*x**3*(-beta*x + y) - 4*x**2*(-delta + x*(-beta*x + y)**2)*(-beta*x + y)]]], [[[2*delta - 2*x*(-beta*x + y)**2]]], [[[2*gamma - 2*x**2*(-beta*x + y)**2]]]]",
      "text/latex": "$\\displaystyle \\left[\\begin{matrix}\\left[\\left[\\begin{matrix}- 4 x^{3} \\left(- \\gamma + x^{2} \\left(- \\beta x + y\\right)^{2}\\right) \\left(- \\beta x + y\\right) - 2 x^{3} \\left(- \\beta x + y\\right) - 4 x^{2} \\left(- \\delta + x \\left(- \\beta x + y\\right)^{2}\\right) \\left(- \\beta x + y\\right)\\end{matrix}\\right]\\right]\\\\\\left[\\left[\\begin{matrix}2 \\delta - 2 x \\left(- \\beta x + y\\right)^{2}\\end{matrix}\\right]\\right]\\\\\\left[\\left[\\begin{matrix}2 \\gamma - 2 x^{2} \\left(- \\beta x + y\\right)^{2}\\end{matrix}\\right]\\right]\\end{matrix}\\right]$"
     },
     "metadata": {},
     "execution_count": 18
    }
   ],
   "source": [
    "# FOC\n",
    "obj.diff(theta)"
   ]
  },
  {
   "cell_type": "code",
   "execution_count": 33,
   "metadata": {},
   "outputs": [
    {
     "output_type": "execute_result",
     "data": {
      "text/plain": "Matrix([\n[   -x],\n[-x**2]])",
      "text/latex": "$\\displaystyle \\left[\\begin{matrix}- x\\\\- x^{2}\\end{matrix}\\right]$"
     },
     "metadata": {},
     "execution_count": 33
    }
   ],
   "source": [
    "grad_g = g.diff(beta)\n",
    "grad_g"
   ]
  },
  {
   "cell_type": "code",
   "execution_count": 35,
   "metadata": {},
   "outputs": [],
   "source": [
    "sx, sx2, su2x2, su2x, su2 = symbols('sx, sx2, su2x2, su2x, su2')\n",
    "grad_g = Matrix([-sx, -sx2])\n",
    "det = 1/(su2x2*su2-(su2x)**2)\n",
    "matW = Matrix([[su2x2, -su2x], [-su2x, -su2]])\n",
    "W = det*matW"
   ]
  },
  {
   "cell_type": "code",
   "execution_count": 36,
   "metadata": {},
   "outputs": [
    {
     "output_type": "execute_result",
     "data": {
      "text/plain": "Matrix([\n[ -sx],\n[-sx2]])",
      "text/latex": "$\\displaystyle \\left[\\begin{matrix}- sx\\\\- sx_{2}\\end{matrix}\\right]$"
     },
     "metadata": {},
     "execution_count": 36
    }
   ],
   "source": [
    "grad_g"
   ]
  },
  {
   "cell_type": "code",
   "execution_count": 37,
   "metadata": {},
   "outputs": [
    {
     "output_type": "execute_result",
     "data": {
      "text/plain": "Matrix([\n[su2x2/(su2*su2x2 - su2x**2), -su2x/(su2*su2x2 - su2x**2)],\n[-su2x/(su2*su2x2 - su2x**2),  -su2/(su2*su2x2 - su2x**2)]])",
      "text/latex": "$\\displaystyle \\left[\\begin{matrix}\\frac{su2x2}{su_{2} su2x2 - su2x^{2}} & - \\frac{su2x}{su_{2} su2x2 - su2x^{2}}\\\\- \\frac{su2x}{su_{2} su2x2 - su2x^{2}} & - \\frac{su_{2}}{su_{2} su2x2 - su2x^{2}}\\end{matrix}\\right]$"
     },
     "metadata": {},
     "execution_count": 37
    }
   ],
   "source": [
    "W"
   ]
  },
  {
   "cell_type": "code",
   "execution_count": 45,
   "metadata": {},
   "outputs": [
    {
     "output_type": "execute_result",
     "data": {
      "text/plain": "Matrix([[su2x*sx2/(su2*su2x2 - su2x**2) - su2x2*sx/(su2*su2x2 - su2x**2), su2*sx2/(su2*su2x2 - su2x**2) + su2x*sx/(su2*su2x2 - su2x**2)]])",
      "text/latex": "$\\displaystyle \\left[\\begin{matrix}\\frac{su2x sx_{2}}{su_{2} su2x2 - su2x^{2}} - \\frac{su2x2 sx}{su_{2} su2x2 - su2x^{2}} & \\frac{su_{2} sx_{2}}{su_{2} su2x2 - su2x^{2}} + \\frac{su2x sx}{su_{2} su2x2 - su2x^{2}}\\end{matrix}\\right]$"
     },
     "metadata": {},
     "execution_count": 45
    }
   ],
   "source": [
    "grad_g.T*W"
   ]
  },
  {
   "cell_type": "code",
   "execution_count": 46,
   "metadata": {},
   "outputs": [
    {
     "output_type": "execute_result",
     "data": {
      "text/plain": "Matrix([[-sx*(su2x*sx2/(su2*su2x2 - su2x**2) - su2x2*sx/(su2*su2x2 - su2x**2)) - sx2*(su2*sx2/(su2*su2x2 - su2x**2) + su2x*sx/(su2*su2x2 - su2x**2))]])",
      "text/latex": "$\\displaystyle \\left[\\begin{matrix}- sx \\left(\\frac{su2x sx_{2}}{su_{2} su2x2 - su2x^{2}} - \\frac{su2x2 sx}{su_{2} su2x2 - su2x^{2}}\\right) - sx_{2} \\left(\\frac{su_{2} sx_{2}}{su_{2} su2x2 - su2x^{2}} + \\frac{su2x sx}{su_{2} su2x2 - su2x^{2}}\\right)\\end{matrix}\\right]$"
     },
     "metadata": {},
     "execution_count": 46
    }
   ],
   "source": [
    "grad_g.T*W*grad_g"
   ]
  },
  {
   "cell_type": "code",
   "execution_count": 64,
   "metadata": {},
   "outputs": [
    {
     "output_type": "execute_result",
     "data": {
      "text/plain": "Matrix([\n[    -beta*x + y],\n[x*(-beta*x + y)]])",
      "text/latex": "$\\displaystyle \\left[\\begin{matrix}- \\beta x + y\\\\x \\left(- \\beta x + y\\right)\\end{matrix}\\right]$"
     },
     "metadata": {},
     "execution_count": 64
    }
   ],
   "source": [
    "g = Matrix([y-x*beta, x*(y-x*beta)])\n",
    "g"
   ]
  },
  {
   "cell_type": "code",
   "execution_count": 66,
   "metadata": {},
   "outputs": [
    {
     "output_type": "execute_result",
     "data": {
      "text/plain": "Matrix([\n[    -mu],\n[-tau**2]])",
      "text/latex": "$\\displaystyle \\left[\\begin{matrix}- \\mu\\\\- \\tau^{2}\\end{matrix}\\right]$"
     },
     "metadata": {},
     "execution_count": 66
    }
   ],
   "source": [
    "G0 = g.diff(beta)\n",
    "G0 = G0.subs({x: mu, x**2: tau**2})\n",
    "G0"
   ]
  },
  {
   "cell_type": "code",
   "execution_count": 68,
   "metadata": {},
   "outputs": [
    {
     "output_type": "execute_result",
     "data": {
      "text/plain": "Matrix([\n[-gamma/(delta**2 - gamma*sigma**2),     delta/(delta**2 - gamma*sigma**2)],\n[ delta/(delta**2 - gamma*sigma**2), -sigma**2/(delta**2 - gamma*sigma**2)]])",
      "text/latex": "$\\displaystyle \\left[\\begin{matrix}- \\frac{\\gamma}{\\delta^{2} - \\gamma \\sigma^{2}} & \\frac{\\delta}{\\delta^{2} - \\gamma \\sigma^{2}}\\\\\\frac{\\delta}{\\delta^{2} - \\gamma \\sigma^{2}} & - \\frac{\\sigma^{2}}{\\delta^{2} - \\gamma \\sigma^{2}}\\end{matrix}\\right]$"
     },
     "metadata": {},
     "execution_count": 68
    }
   ],
   "source": [
    "W = Matrix([[sigma**2, delta], [delta, gamma]]).inv()\n",
    "W"
   ]
  },
  {
   "cell_type": "code",
   "execution_count": 72,
   "metadata": {},
   "outputs": [
    {
     "output_type": "execute_result",
     "data": {
      "text/plain": "Matrix([[(delta**2 - gamma*sigma**2)/(2*delta*mu*tau**2 - gamma*mu**2 - sigma**2*tau**4)]])",
      "text/latex": "$\\displaystyle \\left[\\begin{matrix}\\frac{\\delta^{2} - \\gamma \\sigma^{2}}{2 \\delta \\mu \\tau^{2} - \\gamma \\mu^{2} - \\sigma^{2} \\tau^{4}}\\end{matrix}\\right]$"
     },
     "metadata": {},
     "execution_count": 72
    }
   ],
   "source": [
    "V1 = G0.T*W*G0\n",
    "V = V1.inv()\n",
    "V"
   ]
  },
  {
   "cell_type": "code",
   "execution_count": 73,
   "metadata": {},
   "outputs": [
    {
     "output_type": "execute_result",
     "data": {
      "text/plain": "Matrix([\n[    -mu,  0,  0],\n[-tau**2,  0,  0],\n[      0, -1,  0],\n[      0,  0, -1]])",
      "text/latex": "$\\displaystyle \\left[\\begin{matrix}- \\mu & 0 & 0\\\\- \\tau^{2} & 0 & 0\\\\0 & -1 & 0\\\\0 & 0 & -1\\end{matrix}\\right]$"
     },
     "metadata": {},
     "execution_count": 73
    }
   ],
   "source": [
    "# Voltando letra a\n",
    "G0a = Matrix([[-mu, -tau**2, 0, 0],[0,0, -1, 0],[0,0,0,-1]]).T\n",
    "G0a"
   ]
  },
  {
   "cell_type": "code",
   "execution_count": 75,
   "metadata": {},
   "outputs": [
    {
     "output_type": "execute_result",
     "data": {
      "text/plain": "Matrix([\n[0, -tau**2,  0,  0],\n[0,       0, -1,  0],\n[0,       0,  0, -1]])",
      "text/latex": "$\\displaystyle \\left[\\begin{matrix}0 & - \\tau^{2} & 0 & 0\\\\0 & 0 & -1 & 0\\\\0 & 0 & 0 & -1\\end{matrix}\\right]$"
     },
     "metadata": {},
     "execution_count": 75
    }
   ],
   "source": [
    "G0aTA1 = G0a.T*A1\n",
    "G0aTA1"
   ]
  },
  {
   "cell_type": "code",
   "execution_count": 76,
   "metadata": {},
   "outputs": [
    {
     "output_type": "execute_result",
     "data": {
      "text/plain": "Matrix([\n[tau**4, 0, 0],\n[     0, 1, 0],\n[     0, 0, 1]])",
      "text/latex": "$\\displaystyle \\left[\\begin{matrix}\\tau^{4} & 0 & 0\\\\0 & 1 & 0\\\\0 & 0 & 1\\end{matrix}\\right]$"
     },
     "metadata": {},
     "execution_count": 76
    }
   ],
   "source": [
    "G0aA1G0a = G0aTA1*G0a\n",
    "G0aA1G0a"
   ]
  },
  {
   "cell_type": "code",
   "execution_count": 77,
   "metadata": {},
   "outputs": [
    {
     "output_type": "execute_result",
     "data": {
      "text/plain": "Matrix([\n[tau**(-4), 0, 0],\n[        0, 1, 0],\n[        0, 0, 1]])",
      "text/latex": "$\\displaystyle \\left[\\begin{matrix}\\frac{1}{\\tau^{4}} & 0 & 0\\\\0 & 1 & 0\\\\0 & 0 & 1\\end{matrix}\\right]$"
     },
     "metadata": {},
     "execution_count": 77
    }
   ],
   "source": [
    "G0aA1G0ainv = G0aA1G0a.inv()\n",
    "G0aA1G0ainv"
   ]
  },
  {
   "cell_type": "code",
   "execution_count": 78,
   "metadata": {},
   "outputs": [
    {
     "output_type": "execute_result",
     "data": {
      "text/plain": "Matrix([\n[0, -1/tau**2,  0,  0],\n[0,         0, -1,  0],\n[0,         0,  0, -1]])",
      "text/latex": "$\\displaystyle \\left[\\begin{matrix}0 & - \\frac{1}{\\tau^{2}} & 0 & 0\\\\0 & 0 & -1 & 0\\\\0 & 0 & 0 & -1\\end{matrix}\\right]$"
     },
     "metadata": {},
     "execution_count": 78
    }
   ],
   "source": [
    "G0aA1G0ainv*G0aTA1"
   ]
  },
  {
   "cell_type": "code",
   "execution_count": 79,
   "metadata": {},
   "outputs": [
    {
     "output_type": "execute_result",
     "data": {
      "text/plain": "Matrix([\n[                 u_i],\n[               u_i*x],\n[   -delta + u_i**2*x],\n[-gamma + u_i**2*x**2]])",
      "text/latex": "$\\displaystyle \\left[\\begin{matrix}u_{i}\\\\u_{i} x\\\\- \\delta + u_{i}^{2} x\\\\- \\gamma + u_{i}^{2} x^{2}\\end{matrix}\\right]$"
     },
     "metadata": {},
     "execution_count": 79
    }
   ],
   "source": [
    "ga = Matrix([ui, x*ui, ui**2*x-delta, ui**2*x**2-gamma])\n",
    "ga"
   ]
  },
  {
   "cell_type": "code",
   "execution_count": 86,
   "metadata": {},
   "outputs": [
    {
     "output_type": "execute_result",
     "data": {
      "text/plain": "Matrix([\n[                    u_i**2,                     u_i**2*x,                    u_i*(-delta + u_i**2*x),                 u_i*(-gamma + u_i**2*x**2)],\n[                  u_i**2*x,                  u_i**2*x**2,                  u_i*x*(-delta + u_i**2*x),               u_i*x*(-gamma + u_i**2*x**2)],\n[   u_i*(-delta + u_i**2*x),    u_i*x*(-delta + u_i**2*x),                     (-delta + u_i**2*x)**2, (-delta + u_i**2*x)*(-gamma + u_i**2*x**2)],\n[u_i*(-gamma + u_i**2*x**2), u_i*x*(-gamma + u_i**2*x**2), (-delta + u_i**2*x)*(-gamma + u_i**2*x**2),                  (-gamma + u_i**2*x**2)**2]])",
      "text/latex": "$\\displaystyle \\left[\\begin{matrix}u_{i}^{2} & u_{i}^{2} x & u_{i} \\left(- \\delta + u_{i}^{2} x\\right) & u_{i} \\left(- \\gamma + u_{i}^{2} x^{2}\\right)\\\\u_{i}^{2} x & u_{i}^{2} x^{2} & u_{i} x \\left(- \\delta + u_{i}^{2} x\\right) & u_{i} x \\left(- \\gamma + u_{i}^{2} x^{2}\\right)\\\\u_{i} \\left(- \\delta + u_{i}^{2} x\\right) & u_{i} x \\left(- \\delta + u_{i}^{2} x\\right) & \\left(- \\delta + u_{i}^{2} x\\right)^{2} & \\left(- \\delta + u_{i}^{2} x\\right) \\left(- \\gamma + u_{i}^{2} x^{2}\\right)\\\\u_{i} \\left(- \\gamma + u_{i}^{2} x^{2}\\right) & u_{i} x \\left(- \\gamma + u_{i}^{2} x^{2}\\right) & \\left(- \\delta + u_{i}^{2} x\\right) \\left(- \\gamma + u_{i}^{2} x^{2}\\right) & \\left(- \\gamma + u_{i}^{2} x^{2}\\right)^{2}\\end{matrix}\\right]$"
     },
     "metadata": {},
     "execution_count": 86
    }
   ],
   "source": [
    "gagaT = ga*ga.T\n",
    "gagaT"
   ]
  },
  {
   "cell_type": "code",
   "execution_count": 87,
   "metadata": {},
   "outputs": [
    {
     "output_type": "execute_result",
     "data": {
      "text/plain": "Matrix([\n[sigma**2, delta, 0, 0],\n[   delta, gamma, 0, 0],\n[       0,     0, 0, 0],\n[       0,     0, 0, 0]])",
      "text/latex": "$\\displaystyle \\left[\\begin{matrix}\\sigma^{2} & \\delta & 0 & 0\\\\\\delta & \\gamma & 0 & 0\\\\0 & 0 & 0 & 0\\\\0 & 0 & 0 & 0\\end{matrix}\\right]$"
     },
     "metadata": {},
     "execution_count": 87
    }
   ],
   "source": [
    "EgagaT = gagaT.subs({ui**2: sigma**2, ui**2*x: delta, ui**2*x**2: gamma})\n",
    "EgagaT"
   ]
  },
  {
   "cell_type": "code",
   "execution_count": 88,
   "metadata": {},
   "outputs": [
    {
     "output_type": "execute_result",
     "data": {
      "text/plain": "Matrix([\n[gamma/tau**4, 0, 0],\n[           0, 0, 0],\n[           0, 0, 0]])",
      "text/latex": "$\\displaystyle \\left[\\begin{matrix}\\frac{\\gamma}{\\tau^{4}} & 0 & 0\\\\0 & 0 & 0\\\\0 & 0 & 0\\end{matrix}\\right]$"
     },
     "metadata": {},
     "execution_count": 88
    }
   ],
   "source": [
    "V0a = G0aA1G0ainv*G0aTA1*EgagaT*G0aTA1.T*G0aA1G0ainv\n",
    "V0a"
   ]
  },
  {
   "cell_type": "code",
   "execution_count": 91,
   "metadata": {},
   "outputs": [
    {
     "output_type": "execute_result",
     "data": {
      "text/plain": "Matrix([\n[                   -beta*x + y],\n[               x*(-beta*x + y)],\n[   -delta + x*(-beta*x + y)**2],\n[-gamma + x**2*(-beta*x + y)**2]])",
      "text/latex": "$\\displaystyle \\left[\\begin{matrix}- \\beta x + y\\\\x \\left(- \\beta x + y\\right)\\\\- \\delta + x \\left(- \\beta x + y\\right)^{2}\\\\- \\gamma + x^{2} \\left(- \\beta x + y\\right)^{2}\\end{matrix}\\right]$"
     },
     "metadata": {},
     "execution_count": 91
    }
   ],
   "source": [
    "gfull = Matrix([y-x*beta, x*(y-x*beta), x*(y-x*beta)**2 - delta, x**2*(y-x*beta)**2-gamma])\n",
    "gfull"
   ]
  },
  {
   "cell_type": "code",
   "execution_count": 92,
   "metadata": {},
   "outputs": [],
   "source": [
    "theta = Matrix([beta, delta, gamma])"
   ]
  },
  {
   "cell_type": "code",
   "execution_count": 93,
   "metadata": {},
   "outputs": [
    {
     "output_type": "execute_result",
     "data": {
      "text/plain": "Matrix([\n[                   -x,  0,  0],\n[                -x**2,  0,  0],\n[-2*x**2*(-beta*x + y), -1,  0],\n[-2*x**3*(-beta*x + y),  0, -1]])",
      "text/latex": "$\\displaystyle \\left[\\begin{matrix}- x & 0 & 0\\\\- x^{2} & 0 & 0\\\\- 2 x^{2} \\left(- \\beta x + y\\right) & -1 & 0\\\\- 2 x^{3} \\left(- \\beta x + y\\right) & 0 & -1\\end{matrix}\\right]$"
     },
     "metadata": {},
     "execution_count": 93
    }
   ],
   "source": [
    "grad_gfull = gfull.jacobian(theta)\n",
    "grad_gfull"
   ]
  },
  {
   "cell_type": "code",
   "execution_count": 94,
   "metadata": {},
   "outputs": [
    {
     "output_type": "execute_result",
     "data": {
      "text/plain": "Matrix([\n[                             0],\n[               x*(-beta*x + y)],\n[   -delta + x*(-beta*x + y)**2],\n[-gamma + x**2*(-beta*x + y)**2]])",
      "text/latex": "$\\displaystyle \\left[\\begin{matrix}0\\\\x \\left(- \\beta x + y\\right)\\\\- \\delta + x \\left(- \\beta x + y\\right)^{2}\\\\- \\gamma + x^{2} \\left(- \\beta x + y\\right)^{2}\\end{matrix}\\right]$"
     },
     "metadata": {},
     "execution_count": 94
    }
   ],
   "source": [
    "A1*gfull"
   ]
  },
  {
   "cell_type": "code",
   "execution_count": 98,
   "metadata": {},
   "outputs": [
    {
     "output_type": "execute_result",
     "data": {
      "text/plain": "Matrix([\n[-2*x**3*(-gamma + x**2*(beta*x - y)**2)*(-beta*x + y) - x**3*(-beta*x + y) - 2*x**2*(-delta + x*(beta*x - y)**2)*(-beta*x + y)],\n[                                                                                                     delta - x*(beta*x - y)**2],\n[                                                                                                  gamma - x**2*(beta*x - y)**2]])",
      "text/latex": "$\\displaystyle \\left[\\begin{matrix}- 2 x^{3} \\left(- \\gamma + x^{2} \\left(\\beta x - y\\right)^{2}\\right) \\left(- \\beta x + y\\right) - x^{3} \\left(- \\beta x + y\\right) - 2 x^{2} \\left(- \\delta + x \\left(\\beta x - y\\right)^{2}\\right) \\left(- \\beta x + y\\right)\\\\\\delta - x \\left(\\beta x - y\\right)^{2}\\\\\\gamma - x^{2} \\left(\\beta x - y\\right)^{2}\\end{matrix}\\right]$"
     },
     "metadata": {},
     "execution_count": 98
    }
   ],
   "source": [
    "FOC = grad_gfull.T*A1*gfull\n",
    "FOC"
   ]
  },
  {
   "cell_type": "code",
   "execution_count": 100,
   "metadata": {},
   "outputs": [
    {
     "output_type": "execute_result",
     "data": {
      "text/plain": "x**2*(beta*x - y)*(-2*delta - 2*x*(gamma - x**2*(beta*x - y)**2) + 2*x*(beta*x - y)**2 + x)",
      "text/latex": "$\\displaystyle x^{2} \\left(\\beta x - y\\right) \\left(- 2 \\delta - 2 x \\left(\\gamma - x^{2} \\left(\\beta x - y\\right)^{2}\\right) + 2 x \\left(\\beta x - y\\right)^{2} + x\\right)$"
     },
     "metadata": {},
     "execution_count": 100
    }
   ],
   "source": [
    "FOC[0].simplify()"
   ]
  },
  {
   "cell_type": "code",
   "execution_count": 102,
   "metadata": {},
   "outputs": [
    {
     "output_type": "execute_result",
     "data": {
      "text/plain": "[(y/x, 0, 0)]"
     },
     "metadata": {},
     "execution_count": 102
    }
   ],
   "source": [
    "solve(FOC, beta, delta, gamma)"
   ]
  },
  {
   "cell_type": "code",
   "execution_count": 104,
   "metadata": {},
   "outputs": [
    {
     "output_type": "execute_result",
     "data": {
      "text/plain": "-2*x**5*(-beta*x + y)*(beta*x - y)**2 - 2*x**3*(-beta*x + y)*(beta*x - y)**2 - x**3*(-beta*x + y)",
      "text/latex": "$\\displaystyle - 2 x^{5} \\left(- \\beta x + y\\right) \\left(\\beta x - y\\right)^{2} - 2 x^{3} \\left(- \\beta x + y\\right) \\left(\\beta x - y\\right)^{2} - x^{3} \\left(- \\beta x + y\\right)$"
     },
     "metadata": {},
     "execution_count": 104
    }
   ],
   "source": [
    "beta_id = FOC[0].subs({delta: 0, gamma: 0})\n",
    "beta_id"
   ]
  },
  {
   "cell_type": "code",
   "execution_count": 105,
   "metadata": {},
   "outputs": [
    {
     "output_type": "execute_result",
     "data": {
      "text/plain": "[y/x,\n (2*x**2*y + 2*y - sqrt(2)*sqrt(-x**2 - 1))/(2*x**3 + 2*x),\n (2*x**2*y + 2*y + sqrt(2)*sqrt(-x**2 - 1))/(2*x**3 + 2*x)]"
     },
     "metadata": {},
     "execution_count": 105
    }
   ],
   "source": [
    "solve(beta_id, beta)"
   ]
  },
  {
   "cell_type": "code",
   "execution_count": null,
   "metadata": {},
   "outputs": [],
   "source": []
  },
  {
   "cell_type": "code",
   "execution_count": null,
   "metadata": {},
   "outputs": [],
   "source": []
  },
  {
   "cell_type": "code",
   "execution_count": null,
   "metadata": {},
   "outputs": [],
   "source": []
  },
  {
   "cell_type": "code",
   "execution_count": 34,
   "metadata": {},
   "outputs": [
    {
     "output_type": "execute_result",
     "data": {
      "text/plain": "Matrix([\n[    -mu],\n[-tau**2]])",
      "text/latex": "$\\displaystyle \\left[\\begin{matrix}- \\mu\\\\- \\tau^{2}\\end{matrix}\\right]$"
     },
     "metadata": {},
     "execution_count": 34
    }
   ],
   "source": [
    "G0 = grad_g.subs({x: mu, x**2: tau**2})\n",
    "G0"
   ]
  },
  {
   "cell_type": "code",
   "execution_count": 35,
   "metadata": {},
   "outputs": [
    {
     "output_type": "execute_result",
     "data": {
      "text/plain": "Matrix([\n[  (-beta*x + y)**2,    x*(-beta*x + y)**2],\n[x*(-beta*x + y)**2, x**2*(-beta*x + y)**2]])",
      "text/latex": "$\\displaystyle \\left[\\begin{matrix}\\left(- \\beta x + y\\right)^{2} & x \\left(- \\beta x + y\\right)^{2}\\\\x \\left(- \\beta x + y\\right)^{2} & x^{2} \\left(- \\beta x + y\\right)^{2}\\end{matrix}\\right]$"
     },
     "metadata": {},
     "execution_count": 35
    }
   ],
   "source": [
    "ggT = g*g.T\n",
    "ggT"
   ]
  },
  {
   "cell_type": "code",
   "execution_count": 36,
   "metadata": {},
   "outputs": [
    {
     "output_type": "execute_result",
     "data": {
      "text/plain": "Matrix([\n[   ei**2,     ei**2*mu],\n[ei**2*mu, ei**2*tau**2]])",
      "text/latex": "$\\displaystyle \\left[\\begin{matrix}ei^{2} & ei^{2} \\mu\\\\ei^{2} \\mu & ei^{2} \\tau^{2}\\end{matrix}\\right]$"
     },
     "metadata": {},
     "execution_count": 36
    }
   ],
   "source": [
    "EggT = ggT.subs({y-x*beta: ei, x: mu, x**2: tau**2})\n",
    "EggT"
   ]
  },
  {
   "cell_type": "code",
   "execution_count": 37,
   "metadata": {},
   "outputs": [
    {
     "output_type": "execute_result",
     "data": {
      "text/plain": "Matrix([\n[-tau**2/(ei**2*mu**2 - ei**2*tau**2), mu/(ei**2*mu**2 - ei**2*tau**2)],\n[     mu/(ei**2*mu**2 - ei**2*tau**2), -1/(ei**2*mu**2 - ei**2*tau**2)]])",
      "text/latex": "$\\displaystyle \\left[\\begin{matrix}- \\frac{\\tau^{2}}{ei^{2} \\mu^{2} - ei^{2} \\tau^{2}} & \\frac{\\mu}{ei^{2} \\mu^{2} - ei^{2} \\tau^{2}}\\\\\\frac{\\mu}{ei^{2} \\mu^{2} - ei^{2} \\tau^{2}} & - \\frac{1}{ei^{2} \\mu^{2} - ei^{2} \\tau^{2}}\\end{matrix}\\right]$"
     },
     "metadata": {},
     "execution_count": 37
    }
   ],
   "source": [
    "W = EggT.inv()\n",
    "W"
   ]
  },
  {
   "cell_type": "code",
   "execution_count": 39,
   "metadata": {},
   "outputs": [
    {
     "output_type": "execute_result",
     "data": {
      "text/plain": "ei**2/tau**2",
      "text/latex": "$\\displaystyle \\frac{ei^{2}}{\\tau^{2}}$"
     },
     "metadata": {},
     "execution_count": 39
    }
   ],
   "source": [
    "avar = (G0.T*W*G0)**-1\n",
    "avar[0].simplify()"
   ]
  },
  {
   "cell_type": "code",
   "execution_count": null,
   "metadata": {},
   "outputs": [],
   "source": []
  },
  {
   "cell_type": "markdown",
   "metadata": {},
   "source": [
    "# Solving some Problem Sets"
   ]
  },
  {
   "cell_type": "markdown",
   "metadata": {},
   "source": [
    "**Question 2** A random variable $X$ presents an exponential distribution with parameter $\\lambda$ if its probability density function is given by $f(x ; \\lambda)=\\lambda \\exp (-\\lambda x)$. A feature of the exponential distribution is that $\\mathbb{E}\\left[X^{m}\\right]=m ! \\times \\lambda^{-m}$"
   ]
  },
  {
   "cell_type": "markdown",
   "metadata": {},
   "source": [
    "Start by assembling the expressions for density (f), log-likelihood (ll) and gradient of log-likelihood (grad_ll). After that we can solve for $\\lambda_0$"
   ]
  },
  {
   "cell_type": "code",
   "execution_count": null,
   "metadata": {},
   "outputs": [],
   "source": [
    "f = lamb*exp(-lamb*x)\n",
    "ll = log(f)\n",
    "grad_ll = ll.diff(lamb).simplify()"
   ]
  },
  {
   "cell_type": "code",
   "execution_count": null,
   "metadata": {},
   "outputs": [],
   "source": [
    "lamb0 = solve(grad_ll, lamb)[0]\n",
    "lamb0"
   ]
  },
  {
   "cell_type": "markdown",
   "metadata": {},
   "source": [
    "We can check the plots. First the log-likelihood function must have a maximum at $\\lambda_0$. Suppose x = 5 ($\\sum_i^Nx_i = 5$), then we can plot $ll(\\lambda)$."
   ]
  },
  {
   "cell_type": "code",
   "execution_count": null,
   "metadata": {},
   "outputs": [],
   "source": [
    "x_eval = {x: 5}\n",
    "plot(ll.subs(x_eval), (lamb, lamb0.subs(x_eval)*0.9, lamb0.subs(x_eval)*1.1), title = 'Log-Likelihood function')"
   ]
  },
  {
   "cell_type": "markdown",
   "metadata": {},
   "source": [
    "The same goes for the gradient. We know that at $\\lambda_0$ it must be zero. And $\\lambda_0$ must be the unique root, so $\\nabla_\\lambda ll(\\lambda)$ being strictly monotonic is necessary. If it is decreasing, then $\\lambda_0$ is indeed a maximum point."
   ]
  },
  {
   "cell_type": "code",
   "execution_count": null,
   "metadata": {},
   "outputs": [],
   "source": [
    "plot(grad_ll.subs(x_eval), (lamb, lamb0.subs(x_eval)*0.9, lamb0.subs(x_eval)*1.1), title = \"Gradient of Log-Likelihood\")"
   ]
  },
  {
   "cell_type": "markdown",
   "metadata": {},
   "source": [
    "And finally checking the second order conditions."
   ]
  },
  {
   "cell_type": "code",
   "execution_count": null,
   "metadata": {},
   "outputs": [],
   "source": [
    "SOC = [limit(H_ll.subs(x_eval), lamb, -oo), limit(H_ll.subs(x_eval), lamb, 0), limit(H_ll.subs(x_eval), lamb, oo)]\n",
    "SOC"
   ]
  },
  {
   "cell_type": "markdown",
   "metadata": {},
   "source": [
    "The variance of an MLE estimator is given by $\\mathcal{I}^1=-\\mathbb{E}[H(\\lambda_0)]^-1$. Therefore the variance of our estimator is: "
   ]
  },
  {
   "cell_type": "code",
   "execution_count": null,
   "metadata": {},
   "outputs": [],
   "source": [
    "avar_mle = -H_ll**-1\n",
    "avar_mle"
   ]
  },
  {
   "cell_type": "markdown",
   "metadata": {},
   "source": [
    "Now, we do not assume that the random variable $X$ follows a exponential distribution with parameter $\\lambda_{0},$ but we assume that its first two moments are equal to the $\\mathbb{E}[X]=\\lambda_{0}^{-1}$ and $\\mathbb{E}\\left[X^{2}\\right]=2 \\times \\lambda_{0}^{-2} .$ Write the objective function of the optimum generalized method of moments estimator for the parameter $\\lambda_{0}$ based on those two moment conditions."
   ]
  },
  {
   "cell_type": "markdown",
   "metadata": {},
   "source": [
    "We begin by creating the moments function, which is vector valued function."
   ]
  },
  {
   "cell_type": "code",
   "execution_count": null,
   "metadata": {},
   "outputs": [],
   "source": [
    "m1 = x - lamb**-1\n",
    "m2 = x**2 - 2*lamb**-2\n",
    "g = Matrix([m1, m2])\n",
    "W = MatrixSymbol('W',2,2)\n",
    "Q = g.T*W*g\n",
    "g"
   ]
  },
  {
   "cell_type": "markdown",
   "metadata": {},
   "source": [
    "The optimal GMM estimator solves the problem:\n",
    "\n",
    "$$\\min_\\lambda g'W_0^*g$$"
   ]
  },
  {
   "cell_type": "code",
   "execution_count": null,
   "metadata": {},
   "outputs": [],
   "source": [
    "Q"
   ]
  },
  {
   "cell_type": "markdown",
   "metadata": {},
   "source": [
    "We can solve for first order conditions. We know that for GMM, FOC is $\\nabla_\\theta g(\\hat\\theta)'Wg(\\hat\\theta)=0$. Expansion of $g(\\hat\\theta)$ and further manipulations yileds the influence function $\\Psi(Z_i, \\theta_0)=-(G_0'W_0G_0)^{-1}G_0'W_0g(Z_i, \\theta_0)$. The asymptotic variance of $\\hat\\theta$ is:\n",
    "\n",
    "$Avar(\\hat\\theta)=(G_0'W_0G_0)^{-1}G_0'W_0\\mathbb{E}[g(Z_i, \\theta_0)g(Z_i, \\theta_0)']((G_0'W_0G_0)^{-1}G_0'W_0)'$\n",
    "\n",
    "Where $G_0 = \\mathbb{E}[\\nabla_\\theta g(\\theta_0)]$, and\n",
    "\n",
    "$W_0=\\mathbb{E}[g(Z_i, \\theta_0)g(Z_i, \\theta_0)']^{-1}$\n",
    "\n",
    "And the optimal GMM asymptotic variance simplifies to:\n",
    "\n",
    "$Avar^*(\\hat\\theta)=(G_0'W_0G_0)^{-1}$"
   ]
  },
  {
   "cell_type": "code",
   "execution_count": 17,
   "metadata": {},
   "outputs": [],
   "source": [
    "lambda0 = symbols('lambda_0')"
   ]
  },
  {
   "cell_type": "markdown",
   "metadata": {},
   "source": [
    "Using Sympy Stats module"
   ]
  },
  {
   "cell_type": "code",
   "execution_count": 18,
   "metadata": {},
   "outputs": [
    {
     "output_type": "execute_result",
     "data": {
      "text/plain": "lambda_0*exp(-lambda_0*x)",
      "text/latex": "$\\displaystyle \\lambda_{0} e^{- \\lambda_{0} x}$"
     },
     "metadata": {},
     "execution_count": 18
    }
   ],
   "source": [
    "from sympy.stats import *\n",
    "X = Exponential('X', lambda0)\n",
    "density(X)(x)"
   ]
  },
  {
   "cell_type": "code",
   "execution_count": 19,
   "metadata": {},
   "outputs": [
    {
     "output_type": "execute_result",
     "data": {
      "text/plain": "Matrix([\n[      X - 1/lambda],\n[X**2 - 2/lambda**2]])",
      "text/latex": "$\\displaystyle \\left[\\begin{matrix}X - \\frac{1}{\\lambda}\\\\X^{2} - \\frac{2}{\\lambda^{2}}\\end{matrix}\\right]$"
     },
     "metadata": {},
     "execution_count": 19
    }
   ],
   "source": [
    "m1 = X - lamb**-1\n",
    "m2 = X**2 - 2*lamb**-2\n",
    "g = Matrix([m1, m2])\n",
    "W = MatrixSymbol('W',2,2)\n",
    "Q = g.T*W*g\n",
    "g"
   ]
  },
  {
   "cell_type": "markdown",
   "metadata": {},
   "source": [
    "We know that the optimal weight matrix for a GMM is $W_0=\\mathbb{E}[g(Z_i, \\theta_0)g(Z_i, \\theta_0)']^{-1}$. We create a matrix $Egg$ with $gg'$ at first. Now we substitute $\\lambda$ by $\\lambda_0$ in the expression and we have to compute element by element the expected value of this matrix."
   ]
  },
  {
   "cell_type": "code",
   "execution_count": 20,
   "metadata": {},
   "outputs": [
    {
     "output_type": "execute_result",
     "data": {
      "text/plain": "Matrix([\n[lambda_0**(-2),  4/lambda_0**3],\n[ 4/lambda_0**3, 20/lambda_0**4]])",
      "text/latex": "$\\displaystyle \\left[\\begin{matrix}\\frac{1}{\\lambda_{0}^{2}} & \\frac{4}{\\lambda_{0}^{3}}\\\\\\frac{4}{\\lambda_{0}^{3}} & \\frac{20}{\\lambda_{0}^{4}}\\end{matrix}\\right]$"
     },
     "metadata": {},
     "execution_count": 20
    }
   ],
   "source": [
    "Egg = (g*g.T).subs(lamb, lambda0)\n",
    "Egg[0] = E(Egg[0])\n",
    "Egg[1] = E(Egg[1])\n",
    "Egg[2] = E(Egg[2])\n",
    "Egg[3] = E(Egg[3])\n",
    "Egg"
   ]
  },
  {
   "cell_type": "markdown",
   "metadata": {},
   "source": [
    "The optimal weight matrix is just its inverse."
   ]
  },
  {
   "cell_type": "code",
   "execution_count": null,
   "metadata": {},
   "outputs": [],
   "source": [
    "W0=Egg.inv()"
   ]
  },
  {
   "cell_type": "markdown",
   "metadata": {},
   "source": [
    "$G_0 = \\mathbb{E}[\\nabla_\\theta g(\\theta_0)]$. Thus we compute de derivative, substitute $\\lambda$ by $\\lambda_0$ and then take the expected value of each element. In this case, the elements were not a function of $X$, so the expectations are already done."
   ]
  },
  {
   "cell_type": "code",
   "execution_count": null,
   "metadata": {},
   "outputs": [],
   "source": [
    "G0 = g.diff(lamb).subs(lamb, lambda0)\n",
    "G0"
   ]
  },
  {
   "cell_type": "markdown",
   "metadata": {},
   "source": [
    "Now we can compute the asymptotic variance of $\\hat\\lambda$ from the optimal GMM estimator under the hypothesis that $X$ has a exponential distribution. "
   ]
  },
  {
   "cell_type": "code",
   "execution_count": null,
   "metadata": {},
   "outputs": [],
   "source": [
    "avar_gmm = (G0.T*W0*G0).inv()\n",
    "avar_gmm"
   ]
  },
  {
   "cell_type": "markdown",
   "metadata": {},
   "source": [
    "# Discrete Choice Maximum Likelihood problem"
   ]
  },
  {
   "cell_type": "markdown",
   "metadata": {},
   "source": [
    "$$\n",
    "\\begin{cases}\n",
    "    y_i^* = x_i'\\beta + \\varepsilon_i\\\\\n",
    "    y_i = \\mathbb{1}{y_i^* > 0}\n",
    "\\end{cases}\n",
    "$$\n",
    "\n",
    "$\\varepsilon_i \\sim F$. F must be symmetric!!\n",
    "\n",
    "$$\\hat\\beta = \\arg \\max \\sum_{i=1}^{N}\\left(y_{i} \\log F\\left(x_{i}' \\beta\\right)+\\left(1-y_{i}\\right) \\log \\left[1-F\\left(x_{i}' \\beta\\right)\\right]\\right)$$\n",
    "\n",
    "$$logL_i(\\beta) = y_{i} \\log F\\left(x_{i}' \\beta\\right)+\\left(1-y_{i}\\right) \\log \\left[1-F\\left(x_{i}' \\beta\\right)\\right]$$\n",
    "\n",
    "$$s_i(\\beta) = w\\left(x_{i}'\\beta\\right) x_{i}\\left(y_{i}-F\\left(x_{i}'\\beta\\right)\\right)$$\n",
    "\n",
    "$$-\\mathbb{E}[H_i(\\beta_0)|x_i] = \\frac{f(x_i'\\beta_0)^2 x_i x_i'}{F(x_i'\\beta_0)\\left(1-F(x_i'\\beta_0\\right)}$$"
   ]
  },
  {
   "cell_type": "code",
   "execution_count": 22,
   "metadata": {},
   "outputs": [],
   "source": [
    "from sympy.stats import *"
   ]
  },
  {
   "cell_type": "code",
   "execution_count": 51,
   "metadata": {},
   "outputs": [],
   "source": [
    "beta_0 = symbols('beta_0')\n",
    "F = Function('F')(x*beta)\n",
    "# f = F.diff(beta)\n",
    "logL = y*log(F)+(1-y)*log(1-F)\n",
    "score = logL.diff(beta)"
   ]
  },
  {
   "cell_type": "code",
   "execution_count": 49,
   "metadata": {},
   "outputs": [
    {
     "output_type": "execute_result",
     "data": {
      "text/plain": "-x*(y - F(beta*x))*Subs(Derivative(F(_xi_1), _xi_1), _xi_1, beta*x)/((F(beta*x) - 1)*F(beta*x))",
      "text/latex": "$\\displaystyle - \\frac{x \\left(y - F{\\left(\\beta x \\right)}\\right) \\left. \\frac{d}{d \\xi_{1}} F{\\left(\\xi_{1} \\right)} \\right|_{\\substack{ \\xi_{1}=\\beta x }}}{\\left(F{\\left(\\beta x \\right)} - 1\\right) F{\\left(\\beta x \\right)}}$"
     },
     "metadata": {},
     "execution_count": 49
    }
   ],
   "source": [
    "score.simplify()"
   ]
  },
  {
   "cell_type": "code",
   "execution_count": 53,
   "metadata": {},
   "outputs": [
    {
     "output_type": "execute_result",
     "data": {
      "text/plain": "x**2*Subs(Derivative(F(_xi_1), _xi_1), _xi_1, beta*x)**2/((1 - F(beta_0*x))*F(beta_0*x))",
      "text/latex": "$\\displaystyle \\frac{x^{2} \\left. \\frac{d}{d \\xi_{1}} F{\\left(\\xi_{1} \\right)} \\right|_{\\substack{ \\xi_{1}=\\beta x }}^{2}}{\\left(1 - F{\\left(\\beta_{0} x \\right)}\\right) F{\\left(\\beta_{0} x \\right)}}$"
     },
     "metadata": {},
     "execution_count": 53
    }
   ],
   "source": [
    "Ehessian = F.diff(beta)**2/(F*(1-F)).subs(x*beta, x*beta_0)\n",
    "Ehessian"
   ]
  },
  {
   "cell_type": "code",
   "execution_count": null,
   "metadata": {},
   "outputs": [],
   "source": []
  }
 ],
 "metadata": {
  "language_info": {
   "codemirror_mode": {
    "name": "ipython",
    "version": 3
   },
   "file_extension": ".py",
   "mimetype": "text/x-python",
   "name": "python",
   "nbconvert_exporter": "python",
   "pygments_lexer": "ipython3",
   "version": "3.7.5-final"
  },
  "orig_nbformat": 2,
  "kernelspec": {
   "name": "python_defaultSpec_1594988065658",
   "display_name": "Python 3.7.5 64-bit ('base': conda)"
  }
 },
 "nbformat": 4,
 "nbformat_minor": 2
}