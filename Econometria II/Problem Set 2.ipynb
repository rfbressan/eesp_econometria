{
 "cells": [
  {
   "cell_type": "markdown",
   "metadata": {},
   "source": [
    "# PSet 2 - Question 3 (Quantile regression)\n",
    "\n",
    "Dataset consumer.csv stores information on a representative sample of American consumers in January, 2013.\n",
    "\n",
    "**a** _Suppose you are interested in understanding whether consumers have an understanding of the Taylor principle in monetary policy. You then decide to run the following model._\n",
    "\n",
    "$$PX1 = \\gamma_0 + \\gamma_1 RATEX + \\gamma_2 UNEMP + \\beta'X + u$$\n",
    "\n",
    "_where PX1 is the expected inflation rate in the subsequent 12 months, RATEX equals 1 if the individual thinks interest rates will be higher in 12 months, 0 if they will remain the same and -1 if they will go down 1 ; and UNEMP follows the {1, 0, −1} pattern for expectations over the change in the unemployment rate (1 if unemployment is expected to be higher). We also include controls of age (AGE), gender (SEX), family size (FAMSIZE) and the log of income (INCOME)._\n",
    "\n",
    "_Estimate the above model. Report your results (use robust standard errors) and comment on your estimates._\n",
    "\n",
    "## Solution"
   ]
  },
  {
   "cell_type": "code",
   "execution_count": 4,
   "metadata": {},
   "outputs": [],
   "source": [
    "import numpy as np\n",
    "import pandas as pd\n",
    "import statsmodels.formula.api as smf\n",
    "import matplotlib.pyplot as plt\n",
    "from scipy.special import factorial\n",
    "from scipy.optimize import minimize"
   ]
  },
  {
   "cell_type": "code",
   "execution_count": 7,
   "metadata": {},
   "outputs": [],
   "source": [
    "pd.set_option('display.precision', 2)\n",
    "df = pd.read_csv(\"consumer.csv\")"
   ]
  },
  {
   "cell_type": "code",
   "execution_count": 8,
   "metadata": {},
   "outputs": [],
   "source": [
    "ols_reg = smf.ols(\"PX1 ~ RATEX + UNEMP + AGE + SEX + FAMSIZE + np.log(INCOME)\", df)\n",
    "ols_fit = ols_reg.fit(cov_type = 'HC1')"
   ]
  },
  {
   "cell_type": "code",
   "execution_count": 9,
   "metadata": {},
   "outputs": [
    {
     "data": {
      "text/html": [
       "<div>\n",
       "<style scoped>\n",
       "    .dataframe tbody tr th:only-of-type {\n",
       "        vertical-align: middle;\n",
       "    }\n",
       "\n",
       "    .dataframe tbody tr th {\n",
       "        vertical-align: top;\n",
       "    }\n",
       "\n",
       "    .dataframe thead th {\n",
       "        text-align: right;\n",
       "    }\n",
       "</style>\n",
       "<table border=\"1\" class=\"dataframe\">\n",
       "  <thead>\n",
       "    <tr style=\"text-align: right;\">\n",
       "      <th></th>\n",
       "      <th>Coef.</th>\n",
       "      <th>Std.Err.</th>\n",
       "    </tr>\n",
       "  </thead>\n",
       "  <tbody>\n",
       "    <tr>\n",
       "      <th>Intercept</th>\n",
       "      <td>9.82</td>\n",
       "      <td>2.79</td>\n",
       "    </tr>\n",
       "    <tr>\n",
       "      <th>RATEX</th>\n",
       "      <td>-0.18</td>\n",
       "      <td>0.30</td>\n",
       "    </tr>\n",
       "    <tr>\n",
       "      <th>UNEMP</th>\n",
       "      <td>1.12</td>\n",
       "      <td>0.27</td>\n",
       "    </tr>\n",
       "    <tr>\n",
       "      <th>AGE</th>\n",
       "      <td>0.01</td>\n",
       "      <td>0.01</td>\n",
       "    </tr>\n",
       "    <tr>\n",
       "      <th>SEX</th>\n",
       "      <td>0.07</td>\n",
       "      <td>0.37</td>\n",
       "    </tr>\n",
       "    <tr>\n",
       "      <th>FAMSIZE</th>\n",
       "      <td>0.11</td>\n",
       "      <td>0.19</td>\n",
       "    </tr>\n",
       "    <tr>\n",
       "      <th>np.log(INCOME)</th>\n",
       "      <td>-3.79</td>\n",
       "      <td>1.50</td>\n",
       "    </tr>\n",
       "  </tbody>\n",
       "</table>\n",
       "</div>"
      ],
      "text/plain": [
       "                Coef.  Std.Err.\n",
       "Intercept        9.82      2.79\n",
       "RATEX           -0.18      0.30\n",
       "UNEMP            1.12      0.27\n",
       "AGE              0.01      0.01\n",
       "SEX              0.07      0.37\n",
       "FAMSIZE          0.11      0.19\n",
       "np.log(INCOME)  -3.79      1.50"
      ]
     },
     "execution_count": 9,
     "metadata": {},
     "output_type": "execute_result"
    }
   ],
   "source": [
    "ols_fit.summary2().tables[1].loc[:, ['Coef.', 'Std.Err.']]"
   ]
  },
  {
   "cell_type": "markdown",
   "metadata": {},
   "source": [
    "**b** _A friend of yours tells you that you should also run a quantile regression, as it would be interesting to see what happens at higher/lower quantiles of the (conditional) inflation expectation distribution. Run a quantile linear regression model using the controls in (a) for τ∈{0.25,0.5,0.75}. Do not bootstrap standard errors! Interpret your estimates. What do they mean? What did you find? Hint: you may use the quantreg package. Note: We are not yet able to test hypotheses involving distinct quantiles, as we do not know the asymptotic covariance between these estimators. We’ll be able to do so once we see quantile regression in the context of GMM estimation._\n",
    "\n",
    "## Solution"
   ]
  },
  {
   "cell_type": "code",
   "execution_count": 10,
   "metadata": {},
   "outputs": [],
   "source": [
    "def fit_models(q):\n",
    "    fit = quant_reg.fit(q)\n",
    "    q_df = fit.summary2().tables[1].loc[:, ['Coef.', 'Std.Err.']]\n",
    "    return q_df"
   ]
  },
  {
   "cell_type": "code",
   "execution_count": 11,
   "metadata": {},
   "outputs": [
    {
     "data": {
      "text/html": [
       "<div>\n",
       "<style scoped>\n",
       "    .dataframe tbody tr th:only-of-type {\n",
       "        vertical-align: middle;\n",
       "    }\n",
       "\n",
       "    .dataframe tbody tr th {\n",
       "        vertical-align: top;\n",
       "    }\n",
       "\n",
       "    .dataframe thead th {\n",
       "        text-align: right;\n",
       "    }\n",
       "</style>\n",
       "<table border=\"1\" class=\"dataframe\">\n",
       "  <thead>\n",
       "    <tr style=\"text-align: right;\">\n",
       "      <th></th>\n",
       "      <th>Coef.</th>\n",
       "      <th>Std.Err.</th>\n",
       "      <th>Coef.</th>\n",
       "      <th>Std.Err.</th>\n",
       "      <th>Coef.</th>\n",
       "      <th>Std.Err.</th>\n",
       "    </tr>\n",
       "  </thead>\n",
       "  <tbody>\n",
       "    <tr>\n",
       "      <th>Intercept</th>\n",
       "      <td>2.00e+00</td>\n",
       "      <td>1.76e+00</td>\n",
       "      <td>6.27e+00</td>\n",
       "      <td>2.00</td>\n",
       "      <td>17.90</td>\n",
       "      <td>3.37</td>\n",
       "    </tr>\n",
       "    <tr>\n",
       "      <th>RATEX</th>\n",
       "      <td>2.66e-07</td>\n",
       "      <td>2.12e-01</td>\n",
       "      <td>9.19e-03</td>\n",
       "      <td>0.27</td>\n",
       "      <td>-0.07</td>\n",
       "      <td>0.43</td>\n",
       "    </tr>\n",
       "    <tr>\n",
       "      <th>UNEMP</th>\n",
       "      <td>1.00e+00</td>\n",
       "      <td>1.84e-01</td>\n",
       "      <td>1.15e+00</td>\n",
       "      <td>0.22</td>\n",
       "      <td>1.75</td>\n",
       "      <td>0.37</td>\n",
       "    </tr>\n",
       "    <tr>\n",
       "      <th>AGE</th>\n",
       "      <td>1.15e-08</td>\n",
       "      <td>9.18e-03</td>\n",
       "      <td>1.16e-02</td>\n",
       "      <td>0.01</td>\n",
       "      <td>0.03</td>\n",
       "      <td>0.02</td>\n",
       "    </tr>\n",
       "    <tr>\n",
       "      <th>SEX</th>\n",
       "      <td>-1.23e-06</td>\n",
       "      <td>2.68e-01</td>\n",
       "      <td>-1.08e-01</td>\n",
       "      <td>0.32</td>\n",
       "      <td>0.03</td>\n",
       "      <td>0.50</td>\n",
       "    </tr>\n",
       "    <tr>\n",
       "      <th>FAMSIZE</th>\n",
       "      <td>-7.27e-07</td>\n",
       "      <td>1.11e-01</td>\n",
       "      <td>1.16e-01</td>\n",
       "      <td>0.14</td>\n",
       "      <td>0.17</td>\n",
       "      <td>0.25</td>\n",
       "    </tr>\n",
       "    <tr>\n",
       "      <th>np.log(INCOME)</th>\n",
       "      <td>-1.05e-06</td>\n",
       "      <td>9.94e-01</td>\n",
       "      <td>-2.24e+00</td>\n",
       "      <td>1.11</td>\n",
       "      <td>-8.30</td>\n",
       "      <td>1.81</td>\n",
       "    </tr>\n",
       "  </tbody>\n",
       "</table>\n",
       "</div>"
      ],
      "text/plain": [
       "                   Coef.  Std.Err.     Coef.  Std.Err.  Coef.  Std.Err.\n",
       "Intercept       2.00e+00  1.76e+00  6.27e+00      2.00  17.90      3.37\n",
       "RATEX           2.66e-07  2.12e-01  9.19e-03      0.27  -0.07      0.43\n",
       "UNEMP           1.00e+00  1.84e-01  1.15e+00      0.22   1.75      0.37\n",
       "AGE             1.15e-08  9.18e-03  1.16e-02      0.01   0.03      0.02\n",
       "SEX            -1.23e-06  2.68e-01 -1.08e-01      0.32   0.03      0.50\n",
       "FAMSIZE        -7.27e-07  1.11e-01  1.16e-01      0.14   0.17      0.25\n",
       "np.log(INCOME) -1.05e-06  9.94e-01 -2.24e+00      1.11  -8.30      1.81"
      ]
     },
     "execution_count": 11,
     "metadata": {},
     "output_type": "execute_result"
    }
   ],
   "source": [
    "quantiles = [0.25, 0.5, 0.75]\n",
    "quant_reg = smf.quantreg(\"PX1 ~ RATEX + UNEMP + AGE + SEX + FAMSIZE + np.log(INCOME)\", df)\n",
    "table = pd.DataFrame()\n",
    "for q in quantiles:\n",
    "    table = pd.concat([table, fit_models(q)], axis=1)\n",
    "\n",
    "table"
   ]
  },
  {
   "cell_type": "markdown",
   "metadata": {},
   "source": [
    "# PSet 3 - Question 4 (Count Models)"
   ]
  },
  {
   "cell_type": "markdown",
   "metadata": {},
   "source": [
    "In this exercise, we'll use the data in `smoke.csv`. I advise you\n",
    "not to use packages except for those in R's base installation. If you decide to do it though, you\n",
    "must explain carefully what your package is calculating at each step. Take your time interpreting\n",
    "what's being asked and write down your model, scores and Hessians.\n",
    "\n",
    "The idea here is to model how many cigarettes the individual smokes per day as a function of\n",
    "price and other covariates. In this case, we're counting the number of cigarettes, so a Poisson-like\n",
    "model may seem suitable.\n",
    "\n",
    "- **a** Estimate an heteroskedasticity-robust OLS model of _cigs_ on _ln(cigpric), ln(income), restaurn, white, educ, age, age^2_ . Interpret and discuss the coefficient on _cigpric_.\n",
    "\n",
    "- **b** Estimate a CMLE model, where $cigs_i |x_i$ follows a Poisson distribution which expected value is $\\lambda_i = e^{x_i'\\beta}$ . Using asymptotic theory, estimate standard errors and comment on the results on this new model.\n",
    "\n",
    "- **c** A Poisson model can be a good choice for modeling the effects of some variable on a variable that counts cigarettes, but nothing guarantees that cigs i follows a conditional Poisson. Comment on the extent that your results can be valid or not. Could you make your estimation more flexible using Quasi-MLE? In what extent? Calculate these new standard errors. What changes?\n",
    "\n",
    "- **d** You can impose a bit more structure in your estimates by modeling $var(cig_i |x_i ) = \\sigma^2 \\lambda_i$. Show that this implies $\\mathbb{E}[s_i(\\beta)s_i'(\\beta)] = \\sigma^2 \\mathbb{E}[H_i(\\beta)]$, where s is the score function of the CMLE model, $H_i$ is the Hessian. What is the asymptotic variance of the estimates for $\\beta$ in this case? Calculate these new standard errors. How do you interpret these? Is it likely that your conditional distribution was a Poisson, to begin with?\n",
    "\n",
    "- **e** How many people don't smoke at all on your data? How could you write a model that accommodates this?"
   ]
  },
  {
   "cell_type": "markdown",
   "metadata": {},
   "source": [
    "## Solution"
   ]
  },
  {
   "cell_type": "markdown",
   "metadata": {},
   "source": [
    "### item a"
   ]
  },
  {
   "cell_type": "code",
   "execution_count": 7,
   "metadata": {},
   "outputs": [],
   "source": [
    "df = pd.read_csv('smoke.csv')\n",
    "df = df.drop('Unnamed: 0', axis=1)"
   ]
  },
  {
   "cell_type": "code",
   "execution_count": 5,
   "metadata": {},
   "outputs": [],
   "source": [
    "ols_reg = smf.ols('cigs ~ lcigpric+lincome+restaurn+white+educ+age+agesq', df)\n",
    "ols_fit = ols_reg.fit(cov_type = 'HC1')"
   ]
  },
  {
   "cell_type": "code",
   "execution_count": 6,
   "metadata": {},
   "outputs": [
    {
     "data": {
      "text/html": [
       "<div>\n",
       "<style scoped>\n",
       "    .dataframe tbody tr th:only-of-type {\n",
       "        vertical-align: middle;\n",
       "    }\n",
       "\n",
       "    .dataframe tbody tr th {\n",
       "        vertical-align: top;\n",
       "    }\n",
       "\n",
       "    .dataframe thead th {\n",
       "        text-align: right;\n",
       "    }\n",
       "</style>\n",
       "<table border=\"1\" class=\"dataframe\">\n",
       "  <thead>\n",
       "    <tr style=\"text-align: right;\">\n",
       "      <th></th>\n",
       "      <th>Coef.</th>\n",
       "      <th>Std.Err.</th>\n",
       "    </tr>\n",
       "  </thead>\n",
       "  <tbody>\n",
       "    <tr>\n",
       "      <th>Intercept</th>\n",
       "      <td>-2.682435</td>\n",
       "      <td>25.901938</td>\n",
       "    </tr>\n",
       "    <tr>\n",
       "      <th>lcigpric</th>\n",
       "      <td>-0.850904</td>\n",
       "      <td>6.054396</td>\n",
       "    </tr>\n",
       "    <tr>\n",
       "      <th>lincome</th>\n",
       "      <td>0.869014</td>\n",
       "      <td>0.597972</td>\n",
       "    </tr>\n",
       "    <tr>\n",
       "      <th>restaurn</th>\n",
       "      <td>-2.865621</td>\n",
       "      <td>1.017275</td>\n",
       "    </tr>\n",
       "    <tr>\n",
       "      <th>white</th>\n",
       "      <td>-0.559236</td>\n",
       "      <td>1.378283</td>\n",
       "    </tr>\n",
       "    <tr>\n",
       "      <th>educ</th>\n",
       "      <td>-0.501753</td>\n",
       "      <td>0.162410</td>\n",
       "    </tr>\n",
       "    <tr>\n",
       "      <th>age</th>\n",
       "      <td>0.774502</td>\n",
       "      <td>0.138032</td>\n",
       "    </tr>\n",
       "    <tr>\n",
       "      <th>agesq</th>\n",
       "      <td>-0.009069</td>\n",
       "      <td>0.001459</td>\n",
       "    </tr>\n",
       "  </tbody>\n",
       "</table>\n",
       "</div>"
      ],
      "text/plain": [
       "              Coef.   Std.Err.\n",
       "Intercept -2.682435  25.901938\n",
       "lcigpric  -0.850904   6.054396\n",
       "lincome    0.869014   0.597972\n",
       "restaurn  -2.865621   1.017275\n",
       "white     -0.559236   1.378283\n",
       "educ      -0.501753   0.162410\n",
       "age        0.774502   0.138032\n",
       "agesq     -0.009069   0.001459"
      ]
     },
     "execution_count": 6,
     "metadata": {},
     "output_type": "execute_result"
    }
   ],
   "source": [
    "ols_fit.summary2().tables[1].loc[:, ['Coef.', 'Std.Err.']]"
   ]
  },
  {
   "cell_type": "markdown",
   "metadata": {},
   "source": [
    "### item b"
   ]
  },
  {
   "cell_type": "markdown",
   "metadata": {},
   "source": [
    "$\\mathbb{E}[cigs|x_i]=\\exp\\{x_i'\\beta_0\\}$ and the density of cigs is Poisson: $f(y_i|x_i;\\beta_0)=\\frac{\\exp\\{x_i'\\beta_0\\}^{y_i}\\exp\\{-\\exp\\{x_i'\\beta_0\\}\\}}{y_i!}$. The log-likelihood function ($\\mathcal{l}_i(\\beta)$), score ($s_i(\\beta)$) and Hessian ($H_i(\\beta)$), respectively are:\n",
    "\n",
    "- $\\mathcal{l}_i(\\beta)=y_i x_i'\\beta - \\exp\\{x_i'\\beta\\} - \\ln(y_i!)$\n",
    "- $s_i(\\beta)=(y_i - \\exp\\{x_i'\\beta\\})x_i$\n",
    "- $H_i(\\beta)=- \\exp\\{x_i'\\beta\\}x_i x_i'$"
   ]
  },
  {
   "cell_type": "code",
   "execution_count": 99,
   "metadata": {},
   "outputs": [],
   "source": [
    "def neg_lik_i(beta, X, Y):\n",
    "    nrows = Y.shape[0]\n",
    "    nl = 0.0\n",
    "    for i in range(nrows):\n",
    "        xbeta = X[i,:].dot(beta)\n",
    "        nl -= Y[i]*xbeta-np.exp(xbeta)-np.log(factorial(Y[i]))\n",
    "    \n",
    "    return nl/nrows\n",
    "\n",
    "def score_i(beta, X, Y):\n",
    "    nrows = Y.shape[0]\n",
    "    s_dim = X.shape[1]\n",
    "    score = np.zeros(s_dim)\n",
    "    for i in range(nrows):\n",
    "        xbeta = X[i,:].dot(beta)\n",
    "        score -= (Y[i]-np.exp(xbeta))*X[i,:]\n",
    "    \n",
    "    return score/nrows\n",
    "\n",
    "def hessian_i(beta, X, Y):\n",
    "    nrows = Y.shape[0]\n",
    "    s_dim = X.shape[1]\n",
    "    hess = np.zeros((s_dim, s_dim))\n",
    "    for i in range(nrows):\n",
    "        xbeta = X[i,:].dot(beta)\n",
    "        xtx = np.multiply.outer(X[i,:], (X[i,:]))\n",
    "        hess -= -np.exp(xbeta)*xtx\n",
    "    \n",
    "    return hess/nrows"
   ]
  },
  {
   "cell_type": "code",
   "execution_count": 16,
   "metadata": {},
   "outputs": [],
   "source": [
    "def neg_log_lik(beta, X, Y):\n",
    "    xbeta = X.dot(beta)\n",
    "    yxbeta = Y.dot(xbeta)\n",
    "    lny = sum(np.log(factorial(Y)))\n",
    "    nrows = Y.shape[0]\n",
    "    return -(yxbeta - sum(np.exp(xbeta)) - lny)/nrows\n",
    "\n",
    "def score(beta, X, Y):\n",
    "    nrows = Y.shape[0]\n",
    "    expxbeta = np.exp(X.dot(beta))\n",
    "    sbeta = X.T.dot(Y - expxbeta)\n",
    "    return -sbeta/nrows\n",
    "\n",
    "def hessian(beta, X, Y):\n",
    "    nrows = Y.shape[0]\n",
    "    expxbeta = np.exp(X.dot(beta))\n",
    "    return -(-X.T.dot(X)*sum(expxbeta))/nrows"
   ]
  },
  {
   "cell_type": "code",
   "execution_count": 8,
   "metadata": {},
   "outputs": [],
   "source": [
    "Y_train = df['cigs'].to_numpy()\n",
    "X_train = df.drop('cigs', axis=1).to_numpy()"
   ]
  },
  {
   "cell_type": "code",
   "execution_count": 51,
   "metadata": {},
   "outputs": [],
   "source": [
    "initial_guess = 0.0001*np.ones(9)"
   ]
  },
  {
   "cell_type": "code",
   "execution_count": 71,
   "metadata": {},
   "outputs": [
    {
     "data": {
      "text/plain": [
       "13.907723165028608"
      ]
     },
     "execution_count": 71,
     "metadata": {},
     "output_type": "execute_result"
    }
   ],
   "source": [
    "#%%timeit\n",
    "neg_lik_i(initial_guess, X_train, Y_train)"
   ]
  },
  {
   "cell_type": "code",
   "execution_count": 72,
   "metadata": {},
   "outputs": [
    {
     "data": {
      "text/plain": [
       "13.90772316502863"
      ]
     },
     "execution_count": 72,
     "metadata": {},
     "output_type": "execute_result"
    }
   ],
   "source": [
    "#%%timeit\n",
    "neg_log_lik(initial_guess, X_train, Y_train)"
   ]
  },
  {
   "cell_type": "code",
   "execution_count": 73,
   "metadata": {},
   "outputs": [
    {
     "data": {
      "text/plain": [
       "array([5.41282868e+01, 2.15969696e+02, 3.07050226e+00, 1.73413745e+02,\n",
       "       1.40627756e+05, 1.80114129e+00, 3.86266908e+01, 9.61870716e+03,\n",
       "       1.45233250e+01])"
      ]
     },
     "execution_count": 73,
     "metadata": {},
     "output_type": "execute_result"
    }
   ],
   "source": [
    "#%%timeit\n",
    "score_i(initial_guess, X_train, Y_train)"
   ]
  },
  {
   "cell_type": "code",
   "execution_count": 75,
   "metadata": {},
   "outputs": [
    {
     "data": {
      "text/plain": [
       "array([5.41282868e+01, 2.15969696e+02, 3.07050226e+00, 1.73413745e+02,\n",
       "       1.40627756e+05, 1.80114129e+00, 3.86266908e+01, 9.61870716e+03,\n",
       "       1.45233250e+01])"
      ]
     },
     "execution_count": 75,
     "metadata": {},
     "output_type": "execute_result"
    }
   ],
   "source": [
    "#%%timeit\n",
    "score(initial_guess, X_train, Y_train)"
   ]
  },
  {
   "cell_type": "code",
   "execution_count": 104,
   "metadata": {},
   "outputs": [
    {
     "data": {
      "text/plain": [
       "array([[2.21499276e+03, 9.71034062e+03, 1.41015367e+02, 6.81116986e+03,\n",
       "        4.19531190e+06, 4.55268371e+01, 1.62380053e+03, 3.26806099e+05,\n",
       "        6.57699238e+02],\n",
       "       [9.71034062e+03, 4.49689342e+04, 6.47935106e+02, 3.16287701e+04,\n",
       "        1.90623964e+07, 2.10969950e+02, 7.46546657e+03, 1.53761801e+06,\n",
       "        3.03406871e+03],\n",
       "       [1.41015367e+02, 6.47935106e+02, 1.07359298e+01, 4.57737338e+02,\n",
       "        2.77402533e+05, 2.81075460e+00, 1.08459078e+02, 2.21100440e+04,\n",
       "        4.39835219e+01],\n",
       "       [6.81116986e+03, 3.16287701e+04, 4.57737338e+02, 2.53178063e+04,\n",
       "        1.33672791e+07, 1.44659285e+02, 5.26635200e+03, 1.35435812e+06,\n",
       "        2.14034626e+03],\n",
       "       [4.19531190e+06, 1.90623964e+07, 2.77402533e+05, 1.33672791e+07,\n",
       "        8.66987826e+09, 9.15769190e+04, 3.21239879e+06, 6.40206563e+08,\n",
       "        1.29134986e+06],\n",
       "       [4.55268371e+01, 2.10969950e+02, 2.81075460e+00, 1.44659285e+02,\n",
       "        9.15769190e+04, 3.42815492e+00, 3.47993161e+01, 6.92850270e+03,\n",
       "        1.41198816e+01],\n",
       "       [1.62380053e+03, 7.46546657e+03, 1.08459078e+02, 5.26635200e+03,\n",
       "        3.21239879e+06, 3.47993161e+01, 1.24854835e+03, 2.54938685e+05,\n",
       "        5.05923338e+02],\n",
       "       [3.26806099e+05, 1.53761801e+06, 2.21100440e+04, 1.35435812e+06,\n",
       "        6.40206563e+08, 6.92850270e+03, 2.54938685e+05, 7.80870017e+07,\n",
       "        1.03872931e+05],\n",
       "       [6.57699238e+02, 3.03406871e+03, 4.39835219e+01, 2.14034626e+03,\n",
       "        1.29134986e+06, 1.41198816e+01, 5.05923338e+02, 1.03872931e+05,\n",
       "        2.05393155e+02]])"
      ]
     },
     "execution_count": 104,
     "metadata": {},
     "output_type": "execute_result"
    }
   ],
   "source": [
    "hessian_i(initial_guess, X_train, Y_train)"
   ]
  },
  {
   "cell_type": "code",
   "execution_count": 105,
   "metadata": {},
   "outputs": [
    {
     "data": {
      "text/plain": [
       "array([[1.62561910e+06, 7.41969892e+06, 1.08010072e+05, 4.97854402e+06,\n",
       "        2.46600393e+09, 3.11096379e+04, 1.19800347e+06, 2.34341314e+08,\n",
       "        5.03781420e+05],\n",
       "       [7.41969892e+06, 3.60762056e+07, 5.21459775e+05, 2.45436230e+07,\n",
       "        1.14992946e+10, 1.49426580e+05, 5.76264417e+06, 1.18515996e+09,\n",
       "        2.43939185e+06],\n",
       "       [1.08010072e+05, 5.21459775e+05, 8.66328879e+03, 3.55695820e+05,\n",
       "        1.66814131e+08, 1.99170109e+03, 8.38494796e+04, 1.70479349e+07,\n",
       "        3.54685432e+04],\n",
       "       [4.97854402e+06, 2.45436230e+07, 3.55695820e+05, 1.96242308e+07,\n",
       "        7.75191447e+09, 9.74589441e+04, 3.93424040e+06, 1.06926544e+09,\n",
       "        1.66591998e+06],\n",
       "       [2.46600393e+09, 1.14992946e+10, 1.66814131e+08, 7.75191447e+09,\n",
       "        4.49814694e+12, 5.10571963e+07, 1.90310261e+09, 3.61910472e+11,\n",
       "        7.80089873e+08],\n",
       "       [3.11096379e+04, 1.49426580e+05, 1.99170109e+03, 9.74589441e+04,\n",
       "        5.10571963e+07, 2.43158599e+03, 2.38201389e+04, 4.56580979e+06,\n",
       "        1.00120997e+04],\n",
       "       [1.19800347e+06, 5.76264417e+06, 8.38494796e+04, 3.93424040e+06,\n",
       "        1.90310261e+09, 2.38201389e+04, 9.30375802e+05, 1.89003620e+08,\n",
       "        3.91315009e+05],\n",
       "       [2.34341314e+08, 1.18515996e+09, 1.70479349e+07, 1.06926544e+09,\n",
       "        3.61910472e+11, 4.56580979e+06, 1.89003620e+08, 6.35526209e+10,\n",
       "        8.04048914e+07],\n",
       "       [5.03781420e+05, 2.43939185e+06, 3.54685432e+04, 1.66591998e+06,\n",
       "        7.80089873e+08, 1.00120997e+04, 3.91315009e+05, 8.04048914e+07,\n",
       "        1.65506269e+05]])"
      ]
     },
     "execution_count": 105,
     "metadata": {},
     "output_type": "execute_result"
    }
   ],
   "source": [
    "hessian(initial_guess, X_train, Y_train)"
   ]
  },
  {
   "cell_type": "code",
   "execution_count": 43,
   "metadata": {},
   "outputs": [],
   "source": [
    "opt_res = minimize(neg_log_lik, initial_guess, args=(X_train, Y_train), method='Nelder-Mead')"
   ]
  },
  {
   "cell_type": "code",
   "execution_count": 44,
   "metadata": {},
   "outputs": [
    {
     "data": {
      "text/plain": [
       "'Optimization terminated successfully.'"
      ]
     },
     "execution_count": 44,
     "metadata": {},
     "output_type": "execute_result"
    }
   ],
   "source": [
    "opt_res.message"
   ]
  },
  {
   "cell_type": "code",
   "execution_count": 80,
   "metadata": {},
   "outputs": [
    {
     "data": {
      "text/plain": [
       "array([6.65667927e-05, 1.08806996e-04, 1.15295308e-04, 1.00522002e-04,\n",
       "       7.48238094e-05, 1.09907386e-04, 1.17427332e-04, 1.42733840e-04,\n",
       "       7.05175775e-05])"
      ]
     },
     "execution_count": 80,
     "metadata": {},
     "output_type": "execute_result"
    }
   ],
   "source": [
    "opt_res.x"
   ]
  },
  {
   "cell_type": "code",
   "execution_count": 107,
   "metadata": {},
   "outputs": [],
   "source": [
    "opt_res2 = minimize(neg_log_lik, initial_guess, args=(X_train, Y_train), method='trust-ncg', jac=score, hess=hessian_i)"
   ]
  },
  {
   "cell_type": "code",
   "execution_count": 108,
   "metadata": {},
   "outputs": [
    {
     "data": {
      "text/plain": [
       "'Optimization terminated successfully.'"
      ]
     },
     "execution_count": 108,
     "metadata": {},
     "output_type": "execute_result"
    }
   ],
   "source": [
    "opt_res2.message"
   ]
  },
  {
   "cell_type": "code",
   "execution_count": 109,
   "metadata": {},
   "outputs": [
    {
     "data": {
      "text/plain": [
       "array([-5.83594742e-02,  5.45697553e-03, -4.87919219e-02,  1.14617583e-01,\n",
       "       -1.02407663e-05, -3.61038271e-01,  2.35816981e-01, -1.37465091e-03,\n",
       "       -3.60542559e-01])"
      ]
     },
     "execution_count": 109,
     "metadata": {},
     "output_type": "execute_result"
    }
   ],
   "source": [
    "opt_res2.x"
   ]
  },
  {
   "cell_type": "code",
   "execution_count": null,
   "metadata": {},
   "outputs": [],
   "source": []
  }
 ],
 "metadata": {
  "kernelspec": {
   "display_name": "Python 3.7.5 64-bit ('anaconda3': virtualenv)",
   "language": "python",
   "name": "python37564bitanaconda3virtualenve173f875322f4d0a8126a71e67bc6c3e"
  },
  "language_info": {
   "codemirror_mode": {
    "name": "ipython",
    "version": 3
   },
   "file_extension": ".py",
   "mimetype": "text/x-python",
   "name": "python",
   "nbconvert_exporter": "python",
   "pygments_lexer": "ipython3",
   "version": "3.7.5"
  },
  "varInspector": {
   "cols": {
    "lenName": 16,
    "lenType": 16,
    "lenVar": 40
   },
   "kernels_config": {
    "python": {
     "delete_cmd_postfix": "",
     "delete_cmd_prefix": "del ",
     "library": "var_list.py",
     "varRefreshCmd": "print(var_dic_list())"
    },
    "r": {
     "delete_cmd_postfix": ") ",
     "delete_cmd_prefix": "rm(",
     "library": "var_list.r",
     "varRefreshCmd": "cat(var_dic_list()) "
    }
   },
   "types_to_exclude": [
    "module",
    "function",
    "builtin_function_or_method",
    "instance",
    "_Feature"
   ],
   "window_display": true
  }
 },
 "nbformat": 4,
 "nbformat_minor": 2
}
